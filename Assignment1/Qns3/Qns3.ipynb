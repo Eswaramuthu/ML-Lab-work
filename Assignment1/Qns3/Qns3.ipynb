{
 "cells": [
  {
   "cell_type": "markdown",
   "id": "9933f866-fbdb-4f56-bdf4-3800192999d8",
   "metadata": {},
   "source": [
    "Implement K-Means clustering on the Iris dataset.\n",
    "Visualize clusters and compare them with true labels using a confusion matrix.\n",
    "Compare K-Means and Hierarchical Clustering results for the same dataset. "
   ]
  },
  {
   "cell_type": "code",
   "execution_count": null,
   "id": "90ffd2e7-8972-461c-9826-ca6f194281d3",
   "metadata": {},
   "outputs": [],
   "source": []
  }
 ],
 "metadata": {
  "kernelspec": {
   "display_name": "Python 3 (ipykernel)",
   "language": "python",
   "name": "python3"
  },
  "language_info": {
   "codemirror_mode": {
    "name": "ipython",
    "version": 3
   },
   "file_extension": ".py",
   "mimetype": "text/x-python",
   "name": "python",
   "nbconvert_exporter": "python",
   "pygments_lexer": "ipython3",
   "version": "3.13.5"
  }
 },
 "nbformat": 4,
 "nbformat_minor": 5
}
