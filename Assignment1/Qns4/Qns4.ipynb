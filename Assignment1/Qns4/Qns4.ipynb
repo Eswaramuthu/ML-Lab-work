{
 "cells": [
  {
   "cell_type": "markdown",
   "id": "4502c010-b0b2-478a-929e-2208984b70c0",
   "metadata": {},
   "source": [
    "Use the hmmlearn library to model weather prediction — given a sequence of observations (e.g., \"Walk\", \"Shop\", \"Clean\"). \n",
    "Find the most likely sequence of hidden states.\n",
    "Compare the performance of Forward Algorithm vs. Viterbi Algorithm for a given observation sequence. "
   ]
  },
  {
   "cell_type": "code",
   "execution_count": 1,
   "id": "24f90930-a91e-4685-b658-d805c4f7502d",
   "metadata": {},
   "outputs": [
    {
     "name": "stdout",
     "output_type": "stream",
     "text": [
      "Requirement already satisfied: hmmlearn in c:\\users\\dell\\anaconda3\\lib\\site-packages (0.3.3)Note: you may need to restart the kernel to use updated packages.\n",
      "\n",
      "Requirement already satisfied: numpy>=1.10 in c:\\users\\dell\\anaconda3\\lib\\site-packages (from hmmlearn) (2.1.3)\n",
      "Requirement already satisfied: scikit-learn!=0.22.0,>=0.16 in c:\\users\\dell\\anaconda3\\lib\\site-packages (from hmmlearn) (1.6.1)\n",
      "Requirement already satisfied: scipy>=0.19 in c:\\users\\dell\\anaconda3\\lib\\site-packages (from hmmlearn) (1.15.3)\n",
      "Requirement already satisfied: joblib>=1.2.0 in c:\\users\\dell\\anaconda3\\lib\\site-packages (from scikit-learn!=0.22.0,>=0.16->hmmlearn) (1.4.2)\n",
      "Requirement already satisfied: threadpoolctl>=3.1.0 in c:\\users\\dell\\anaconda3\\lib\\site-packages (from scikit-learn!=0.22.0,>=0.16->hmmlearn) (3.5.0)\n"
     ]
    }
   ],
   "source": [
    "pip install hmmlearn"
   ]
  },
  {
   "cell_type": "code",
   "execution_count": 4,
   "id": "80247060-0412-4c72-8099-a1fea12eddb3",
   "metadata": {},
   "outputs": [],
   "source": [
    "from hmmlearn import hmm\n",
    "import numpy as np"
   ]
  },
  {
   "cell_type": "code",
   "execution_count": 5,
   "id": "e741fd75-d565-4794-aec5-c8fb3f35721e",
   "metadata": {},
   "outputs": [],
   "source": [
    "states = [\"Sunny\",\"Rainy\"]\n",
    "observations = [\"Walk\",\"Shop\",\"Clean\"]"
   ]
  },
  {
   "cell_type": "code",
   "execution_count": 8,
   "id": "0065bd93-6159-48a2-834a-a5a654be73b5",
   "metadata": {},
   "outputs": [],
   "source": [
    "import numpy as np\n",
    "\n",
    "start_prob = np.array([0.7, 0.3])\n",
    "\n",
    "trans_mat = np.array([[0.8, 0.2],\n",
    "                      [0.3, 0.7]])\n",
    "\n",
    "emit_mat = np.array([[0.6, 0.3, 0.1],\n",
    "                     [0.1, 0.4, 0.5]])\n"
   ]
  },
  {
   "cell_type": "code",
   "execution_count": 9,
   "id": "51db4cbe-6b0b-4e13-8940-e47275443f7a",
   "metadata": {},
   "outputs": [
    {
     "name": "stderr",
     "output_type": "stream",
     "text": [
      "MultinomialHMM has undergone major changes. The previous version was implementing a CategoricalHMM (a special case of MultinomialHMM). This new implementation follows the standard definition for a Multinomial distribution (e.g. as in https://en.wikipedia.org/wiki/Multinomial_distribution). See these issues for details:\n",
      "https://github.com/hmmlearn/hmmlearn/issues/335\n",
      "https://github.com/hmmlearn/hmmlearn/issues/340\n"
     ]
    }
   ],
   "source": [
    "model = hmm.MultinomialHMM(n_components=2, n_iter=100)\n",
    "model.startprob_ = start_prob\n",
    "model.transmat_ = trans_mat\n",
    "model.emissionprob_ = emit_mat\n",
    "model.n_trials = 1 "
   ]
  },
  {
   "cell_type": "code",
   "execution_count": 10,
   "id": "ff196b98-fda2-4517-8d61-3112956d8bd1",
   "metadata": {},
   "outputs": [],
   "source": [
    "obs_seq = np.array([\n",
    "    [1, 0, 0],  # Walk\n",
    "    [0, 1, 0],  # Shop\n",
    "    [0, 0, 1],  # Clean\n",
    "    [0, 1, 0],  # Shop\n",
    "    [1, 0, 0],  # Walk\n",
    "])"
   ]
  },
  {
   "cell_type": "code",
   "execution_count": 11,
   "id": "867fccc1-6a19-4c40-baad-10e9eeb27797",
   "metadata": {},
   "outputs": [
    {
     "name": "stdout",
     "output_type": "stream",
     "text": [
      "Observed sequence: ['Walk', 'Shop', 'Clean', 'Shop', 'Walk']\n",
      "Most likely hidden states: ['Sunny', 'Sunny', 'Sunny', 'Sunny', 'Sunny']\n",
      "Log probability: -6.98143109837347\n"
     ]
    }
   ],
   "source": [
    "logprob, hidden_states = model.decode(obs_seq, algorithm=\"viterbi\")\n",
    "\n",
    "print(\"Observed sequence:\", [observations[np.argmax(o)] for o in obs_seq])\n",
    "print(\"Most likely hidden states:\", [states[i] for i in hidden_states])\n",
    "print(\"Log probability:\", logprob)"
   ]
  },
  {
   "cell_type": "code",
   "execution_count": null,
   "id": "82330bc2-44a5-4c52-974f-83accbade7ab",
   "metadata": {},
   "outputs": [],
   "source": []
  }
 ],
 "metadata": {
  "kernelspec": {
   "display_name": "Python 3 (ipykernel)",
   "language": "python",
   "name": "python3"
  },
  "language_info": {
   "codemirror_mode": {
    "name": "ipython",
    "version": 3
   },
   "file_extension": ".py",
   "mimetype": "text/x-python",
   "name": "python",
   "nbconvert_exporter": "python",
   "pygments_lexer": "ipython3",
   "version": "3.13.5"
  }
 },
 "nbformat": 4,
 "nbformat_minor": 5
}
